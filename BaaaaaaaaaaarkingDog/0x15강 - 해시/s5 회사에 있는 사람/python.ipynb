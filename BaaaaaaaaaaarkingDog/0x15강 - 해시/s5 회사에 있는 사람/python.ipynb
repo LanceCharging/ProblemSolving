{
 "cells": [
  {
   "cell_type": "markdown",
   "metadata": {},
   "source": [
    "파이썬의 set은 기본적으로 해시를 이용한다고 한다.\n"
   ]
  },
  {
   "cell_type": "code",
   "execution_count": 39,
   "metadata": {},
   "outputs": [
    {
     "ename": "ValueError",
     "evalue": "invalid literal for int() with base 10: ''",
     "output_type": "error",
     "traceback": [
      "\u001b[1;31m---------------------------------------------------------------------------\u001b[0m",
      "\u001b[1;31mValueError\u001b[0m                                Traceback (most recent call last)",
      "Cell \u001b[1;32mIn[39], line 1\u001b[0m\n\u001b[1;32m----> 1\u001b[0m n \u001b[38;5;241m=\u001b[39m \u001b[38;5;28;43mint\u001b[39;49m\u001b[43m(\u001b[49m\u001b[38;5;28;43minput\u001b[39;49m\u001b[43m(\u001b[49m\u001b[43m)\u001b[49m\u001b[43m)\u001b[49m\n\u001b[0;32m      3\u001b[0m employees \u001b[38;5;241m=\u001b[39m \u001b[38;5;28mset\u001b[39m([])\n\u001b[0;32m      5\u001b[0m \u001b[38;5;28;01mfor\u001b[39;00m i \u001b[38;5;129;01min\u001b[39;00m \u001b[38;5;28mrange\u001b[39m(n):\n",
      "\u001b[1;31mValueError\u001b[0m: invalid literal for int() with base 10: ''"
     ]
    }
   ],
   "source": [
    "n = int(input())\n",
    "\n",
    "employees = set([])\n",
    "\n",
    "for i in range(n):\n",
    "    employee, enter_or_leave = input().split(' ')\n",
    "    if enter_or_leave == 'enter':\n",
    "        employees.add(employee)\n",
    "    else:\n",
    "        employees.discard(employee) # remove 대신 discard 쓴 이유 -> discrad와 remove의 차이점 : discard는 삭제하려는 대상이 집합에 없을 때 예외가 발생하지 않음(remove와 달리, 아무런 일도 안 일어남)\n",
    "\n",
    "\n",
    "for i in sorted(employees, reverse=True): # set 역시 이터레이블 객체로서(지금까지는 아닌 줄 알았다) for _ in 뒤에 올 수 있으나, 정렬된... 그것도 사전의 역순으로 정렬된 녀석이 필요하다( ps - sorted(set)은 list이다 ) \n",
    "    print(i)\n",
    "\n",
    "\n",
    "'''\n",
    "시간 복잡도 -> O(nlogn)\n",
    "\n",
    "첫 번째 반복문은 n, 두 번째 반복문의 이터레이블 객체 생성시 sorted()를 사용하는데, sorted가 병합정렬이란 걸 사용해서 시간복잡도 o(nlogn)이라고 한다.\n",
    "\n",
    "sorted랑 sort는 0(nlogn)이긴 한데, 최적화가 잘 되어서 그런 '최악의 케이스'까지 잘 가지도 않는다고 한다...\n",
    "\n",
    "해시를 사용했을 때 add나 remove 같은 것도 엄밀히 따져,\n",
    "'최악의 경우(모두 한 인덱스에 모인다던가)'엔 O(n)이어서 시간복잡도가 O(n)인 것으로 보아야겠지만,\n",
    "그런 일은 정말 거의 일어나지 않기 때문에 O(1)이라고 치는 것과 같은 맥락이라고 볼 수 있으려나.\n",
    "'''"
   ]
  },
  {
   "cell_type": "code",
   "execution_count": 27,
   "metadata": {},
   "outputs": [
    {
     "ename": "ValueError",
     "evalue": "invalid literal for int() with base 10: b''",
     "output_type": "error",
     "traceback": [
      "\u001b[1;31m---------------------------------------------------------------------------\u001b[0m",
      "\u001b[1;31mValueError\u001b[0m                                Traceback (most recent call last)",
      "Cell \u001b[1;32mIn[27], line 1\u001b[0m\n\u001b[1;32m----> 1\u001b[0m \u001b[38;5;28;01mfor\u001b[39;00m _ \u001b[38;5;129;01min\u001b[39;00m \u001b[38;5;28mrange\u001b[39m(\u001b[38;5;28;43mint\u001b[39;49m\u001b[43m(\u001b[49m\u001b[43minput2\u001b[49m\u001b[43m(\u001b[49m\u001b[43m)\u001b[49m\u001b[43m)\u001b[49m):\n\u001b[0;32m      2\u001b[0m     \u001b[38;5;28;01mpass\u001b[39;00m\n",
      "\u001b[1;31mValueError\u001b[0m: invalid literal for int() with base 10: b''"
     ]
    }
   ],
   "source": [
    "import io, os\n",
    "\n",
    "input2 = io.BytesIO(os.read(0, os.fstat(0).st_size)).readline\n",
    "\n",
    "employees = set([])\n",
    "\n",
    "for _ in range(int(input2())):\n",
    "    employee, enter_or_leave = input2().split()\n",
    "    if enter_or_leave == b'enter':\n",
    "        employees.add(employee)\n",
    "    else:\n",
    "        employees.discard(employee)\n",
    "        \n",
    "for i in sorted(employees, reverse = True):\n",
    "    print(i.decode())"
   ]
  },
  {
   "cell_type": "code",
   "execution_count": 1,
   "metadata": {},
   "outputs": [],
   "source": [
    "import hashlib"
   ]
  },
  {
   "cell_type": "code",
   "execution_count": null,
   "metadata": {},
   "outputs": [],
   "source": []
  }
 ],
 "metadata": {
  "kernelspec": {
   "display_name": "Python 3",
   "language": "python",
   "name": "python3"
  },
  "language_info": {
   "codemirror_mode": {
    "name": "ipython",
    "version": 3
   },
   "file_extension": ".py",
   "mimetype": "text/x-python",
   "name": "python",
   "nbconvert_exporter": "python",
   "pygments_lexer": "ipython3",
   "version": "3.12.3"
  }
 },
 "nbformat": 4,
 "nbformat_minor": 2
}
